{
 "cells": [
  {
   "cell_type": "markdown",
   "metadata": {},
   "source": [
    "Q1.\tWrite a Python Program to Check if a Number is Positive, Negative or Zero?"
   ]
  },
  {
   "cell_type": "code",
   "execution_count": 3,
   "metadata": {},
   "outputs": [
    {
     "name": "stdout",
     "output_type": "stream",
     "text": [
      "Enter the number0\n",
      "Number is ZERO\n"
     ]
    }
   ],
   "source": [
    "a=int(input('Enter the number'))\n",
    "if a>0:\n",
    "    print('Number is positive')\n",
    "elif a<0:\n",
    "    print('Number is Negative')\n",
    "else:\n",
    "    print(\"Number is ZERO\")"
   ]
  },
  {
   "cell_type": "markdown",
   "metadata": {},
   "source": [
    "Q2.\tWrite a Python Program to Check if a Number is Odd or Even?"
   ]
  },
  {
   "cell_type": "code",
   "execution_count": 19,
   "metadata": {},
   "outputs": [
    {
     "name": "stdout",
     "output_type": "stream",
     "text": [
      "Enter the number  24\n",
      "Number is Even\n"
     ]
    }
   ],
   "source": [
    "b=int(input('Enter the number  '))\n",
    "\n",
    "if b%2==0:\n",
    "    print('Number is Even')\n",
    "else:\n",
    "    print('Number is ODD')"
   ]
  },
  {
   "cell_type": "markdown",
   "metadata": {},
   "source": [
    "Q3.\tWrite a Python Program to Check Leap Year?"
   ]
  },
  {
   "cell_type": "code",
   "execution_count": 23,
   "metadata": {},
   "outputs": [
    {
     "name": "stdout",
     "output_type": "stream",
     "text": [
      "Enter the Year  2016\n",
      "Year is Leap Year \n"
     ]
    }
   ],
   "source": [
    "b=int(input('Enter the Year  '))\n",
    "if (b%4==0 and b%100!=0) or (b%400==0):\n",
    "    print('Year is Leap Year ')\n",
    "else:\n",
    "    print('Year is not Leap Year')"
   ]
  },
  {
   "cell_type": "markdown",
   "metadata": {},
   "source": [
    "Q4.\tWrite a Python Program to Check Prime Number?"
   ]
  },
  {
   "cell_type": "code",
   "execution_count": 43,
   "metadata": {},
   "outputs": [
    {
     "name": "stdout",
     "output_type": "stream",
     "text": [
      "Enter the Number14\n",
      "Number is not Prime Number\n"
     ]
    }
   ],
   "source": [
    "z=int(input('Enter the Number'))\n",
    "for i in range(2,z):\n",
    "    if (z % i)== 0:\n",
    "        print('Number is not Prime Number')\n",
    "        break\n",
    "else:\n",
    "    print('Number is prime Number')\n",
    "        "
   ]
  },
  {
   "cell_type": "markdown",
   "metadata": {},
   "source": [
    "Q5.\tWrite a Python Program to Print all Prime Numbers in an Interval of 1-10000?"
   ]
  },
  {
   "cell_type": "code",
   "execution_count": 62,
   "metadata": {},
   "outputs": [
    {
     "name": "stdout",
     "output_type": "stream",
     "text": [
      "Enter the range of number  100000\n",
      "number is prime number 2\n",
      "number is prime number 4\n",
      "number is prime number 5\n",
      "number is prime number 8\n",
      "number is prime number 10\n",
      "number is prime number 16\n",
      "number is prime number 20\n",
      "number is prime number 25\n",
      "number is prime number 32\n",
      "number is prime number 40\n",
      "number is prime number 50\n",
      "number is prime number 80\n",
      "number is prime number 100\n",
      "number is prime number 125\n",
      "number is prime number 160\n",
      "number is prime number 200\n",
      "number is prime number 250\n",
      "number is prime number 400\n",
      "number is prime number 500\n",
      "number is prime number 625\n",
      "number is prime number 800\n",
      "number is prime number 1000\n",
      "number is prime number 1250\n",
      "number is prime number 2000\n",
      "number is prime number 2500\n",
      "number is prime number 3125\n",
      "number is prime number 4000\n",
      "number is prime number 5000\n",
      "number is prime number 6250\n",
      "number is prime number 10000\n",
      "number is prime number 12500\n",
      "number is prime number 20000\n",
      "number is prime number 25000\n",
      "number is prime number 50000\n"
     ]
    }
   ],
   "source": [
    "z=int(input('Enter the range of number  '))\n",
    "\n",
    "for i in range(2,z):\n",
    "    if z>1:\n",
    "        if (z % i)== 0:\n",
    "            print('number is prime number',i)\n",
    "    \n"
   ]
  },
  {
   "cell_type": "code",
   "execution_count": null,
   "metadata": {},
   "outputs": [],
   "source": []
  }
 ],
 "metadata": {
  "kernelspec": {
   "display_name": "Python 3",
   "language": "python",
   "name": "python3"
  },
  "language_info": {
   "codemirror_mode": {
    "name": "ipython",
    "version": 3
   },
   "file_extension": ".py",
   "mimetype": "text/x-python",
   "name": "python",
   "nbconvert_exporter": "python",
   "pygments_lexer": "ipython3",
   "version": "3.7.6"
  }
 },
 "nbformat": 4,
 "nbformat_minor": 4
}
